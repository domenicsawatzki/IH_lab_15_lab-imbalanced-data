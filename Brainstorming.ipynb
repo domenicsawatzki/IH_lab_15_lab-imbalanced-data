{
 "cells": [
  {
   "cell_type": "code",
   "execution_count": null,
   "metadata": {},
   "outputs": [],
   "source": []
  },
  {
   "cell_type": "markdown",
   "metadata": {},
   "source": [
    "- [ ] get data\n",
    "- [x] check and clean data (nulls, fixing typos, outliers, distrubutions,...)\n",
    "- [x] data exploration\n",
    "- [x] select features\n",
    "- [x] check for multicolinearity\n",
    "- [ ] X/y split (feature/target) : X, y\n",
    "- [ ] train/test split : X_train, X_test, y_train, y_test\n",
    "- [ ] num/cat split : X_train_num, X_train_cat, X_test_num, X_test_cat\n",
    "- [ ] fit transformer on X_train_num\n",
    "- [ ] run transformer on X_train_num : X_train_normalized\n",
    "- [ ] run same transformer on X_test_num : X_test_normalized\n",
    "- [ ] fit encoder on X_train_cat\n",
    "- [ ] run encoder on X_train_cat : X_train_encoded\n",
    "- [ ] run same encoder on X_test_cat : X_test_encoded\n",
    "- [ ] concat X_train_normalized and X_train_encoded : X_train_transformed\n",
    "- [ ] choose model (LienarRegression on numeric target, LogisticRegression(=classification!) on categorical target)\n",
    "- [ ] fit (train) model in X_train_transformed : model\n",
    "- [ ] concat X_test_normalized and X_test_encoded : X_test_transformed\n",
    "- [ ] make predictions using X_test_transfomed : model.predict -> predictions\n",
    "- [ ] compute score using predictions and y_test"
   ]
  }
 ],
 "metadata": {
  "language_info": {
   "name": "python"
  },
  "orig_nbformat": 4
 },
 "nbformat": 4,
 "nbformat_minor": 2
}
